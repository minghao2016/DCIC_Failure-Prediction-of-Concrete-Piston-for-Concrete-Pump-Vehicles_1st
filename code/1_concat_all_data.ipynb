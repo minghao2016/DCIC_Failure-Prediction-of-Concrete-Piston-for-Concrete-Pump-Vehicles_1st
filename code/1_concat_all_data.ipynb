{
 "cells": [
  {
   "cell_type": "code",
   "execution_count": 2,
   "metadata": {},
   "outputs": [],
   "source": [
    "import pandas as pd\n",
    "import os\n",
    "import sys\n",
    "import time\n",
    "from tqdm import *\n",
    "import pickle\n",
    "from collections import Counter, defaultdict"
   ]
  },
  {
   "cell_type": "code",
   "execution_count": 3,
   "metadata": {},
   "outputs": [],
   "source": [
    "def save_variable(v,filename):\n",
    "    f=open(filename,'wb')\n",
    "    pickle.dump(v,f)\n",
    "    f.close()\n",
    "    return filename\n",
    " \n",
    "def load_variavle(filename):\n",
    "    f=open(filename,'rb')\n",
    "    r=pickle.load(f)\n",
    "    f.close()\n",
    "    return r"
   ]
  },
  {
   "cell_type": "code",
   "execution_count": 3,
   "metadata": {},
   "outputs": [],
   "source": [
    "path = '../data/data_all/'\n",
    "id_map = dict(enumerate(os.listdir(path)))\n",
    "new_map = {v:k for k, v in id_map.items()}"
   ]
  },
  {
   "cell_type": "code",
   "execution_count": 10,
   "metadata": {},
   "outputs": [
    {
     "name": "stderr",
     "output_type": "stream",
     "text": [
      "116067it [26:04, 74.17it/s]\n"
     ]
    },
    {
     "name": "stdout",
     "output_type": "stream",
     "text": [
      "Time used: 1565.1745499035442\n"
     ]
    }
   ],
   "source": [
    "start = time.clock()\n",
    "for i, j in tqdm(enumerate(os.listdir(path))):\n",
    "    data = pd.read_csv(path+j)\n",
    "    data['sample_file_name'] = int(i)\n",
    "    if i == 0:\n",
    "        data.to_csv('../data/data_all.csv', index=False)\n",
    "    else:\n",
    "        data.to_csv('../data/data_all.csv', index=False, header=False, mode='a+')\n",
    "#     train = train.append(data)\n",
    "#     del data\n",
    "elapsed = (time.clock() - start)\n",
    "print(\"Time used:\",elapsed)"
   ]
  },
  {
   "cell_type": "code",
   "execution_count": 4,
   "metadata": {},
   "outputs": [],
   "source": [
    "data = pd.read_csv('../data/data_all.csv')"
   ]
  },
  {
   "cell_type": "code",
   "execution_count": 19,
   "metadata": {
    "collapsed": true
   },
   "outputs": [
    {
     "data": {
      "text/html": [
       "<div>\n",
       "<style scoped>\n",
       "    .dataframe tbody tr th:only-of-type {\n",
       "        vertical-align: middle;\n",
       "    }\n",
       "\n",
       "    .dataframe tbody tr th {\n",
       "        vertical-align: top;\n",
       "    }\n",
       "\n",
       "    .dataframe thead th {\n",
       "        text-align: right;\n",
       "    }\n",
       "</style>\n",
       "<table border=\"1\" class=\"dataframe\">\n",
       "  <thead>\n",
       "    <tr style=\"text-align: right;\">\n",
       "      <th></th>\n",
       "      <th>活塞工作时长</th>\n",
       "      <th>发动机转速</th>\n",
       "      <th>油泵转速</th>\n",
       "      <th>泵送压力</th>\n",
       "      <th>液压油温</th>\n",
       "      <th>流量档位</th>\n",
       "      <th>分配压力</th>\n",
       "      <th>排量电流</th>\n",
       "      <th>低压开关</th>\n",
       "      <th>高压开关</th>\n",
       "      <th>搅拌超压信号</th>\n",
       "      <th>正泵</th>\n",
       "      <th>反泵</th>\n",
       "      <th>设备类型</th>\n",
       "      <th>sample_file_name</th>\n",
       "    </tr>\n",
       "  </thead>\n",
       "  <tbody>\n",
       "    <tr>\n",
       "      <th>0</th>\n",
       "      <td>1</td>\n",
       "      <td>4540.96</td>\n",
       "      <td>6339.47</td>\n",
       "      <td>16.50</td>\n",
       "      <td>66.52</td>\n",
       "      <td>6.24</td>\n",
       "      <td>77.33</td>\n",
       "      <td>1032.41</td>\n",
       "      <td>0</td>\n",
       "      <td>1</td>\n",
       "      <td>0</td>\n",
       "      <td>1</td>\n",
       "      <td>0</td>\n",
       "      <td>7</td>\n",
       "      <td>0</td>\n",
       "    </tr>\n",
       "    <tr>\n",
       "      <th>1</th>\n",
       "      <td>1</td>\n",
       "      <td>4147.58</td>\n",
       "      <td>5757.09</td>\n",
       "      <td>14.23</td>\n",
       "      <td>61.54</td>\n",
       "      <td>5.82</td>\n",
       "      <td>78.31</td>\n",
       "      <td>1031.34</td>\n",
       "      <td>0</td>\n",
       "      <td>1</td>\n",
       "      <td>0</td>\n",
       "      <td>1</td>\n",
       "      <td>0</td>\n",
       "      <td>7</td>\n",
       "      <td>0</td>\n",
       "    </tr>\n",
       "    <tr>\n",
       "      <th>2</th>\n",
       "      <td>1</td>\n",
       "      <td>4602.92</td>\n",
       "      <td>6302.70</td>\n",
       "      <td>92.46</td>\n",
       "      <td>61.68</td>\n",
       "      <td>5.77</td>\n",
       "      <td>82.06</td>\n",
       "      <td>1032.37</td>\n",
       "      <td>0</td>\n",
       "      <td>1</td>\n",
       "      <td>0</td>\n",
       "      <td>1</td>\n",
       "      <td>0</td>\n",
       "      <td>7</td>\n",
       "      <td>0</td>\n",
       "    </tr>\n",
       "    <tr>\n",
       "      <th>3</th>\n",
       "      <td>1</td>\n",
       "      <td>2274.27</td>\n",
       "      <td>3090.24</td>\n",
       "      <td>16.97</td>\n",
       "      <td>65.40</td>\n",
       "      <td>5.24</td>\n",
       "      <td>62.09</td>\n",
       "      <td>1031.98</td>\n",
       "      <td>0</td>\n",
       "      <td>1</td>\n",
       "      <td>0</td>\n",
       "      <td>1</td>\n",
       "      <td>0</td>\n",
       "      <td>7</td>\n",
       "      <td>0</td>\n",
       "    </tr>\n",
       "    <tr>\n",
       "      <th>4</th>\n",
       "      <td>1</td>\n",
       "      <td>2288.27</td>\n",
       "      <td>3110.24</td>\n",
       "      <td>18.14</td>\n",
       "      <td>67.66</td>\n",
       "      <td>6.22</td>\n",
       "      <td>61.70</td>\n",
       "      <td>1032.39</td>\n",
       "      <td>0</td>\n",
       "      <td>1</td>\n",
       "      <td>0</td>\n",
       "      <td>1</td>\n",
       "      <td>0</td>\n",
       "      <td>7</td>\n",
       "      <td>0</td>\n",
       "    </tr>\n",
       "  </tbody>\n",
       "</table>\n",
       "</div>"
      ],
      "text/plain": [
       "   活塞工作时长    发动机转速     油泵转速   泵送压力   液压油温  流量档位   分配压力     排量电流  低压开关  高压开关  \\\n",
       "0       1  4540.96  6339.47  16.50  66.52  6.24  77.33  1032.41     0     1   \n",
       "1       1  4147.58  5757.09  14.23  61.54  5.82  78.31  1031.34     0     1   \n",
       "2       1  4602.92  6302.70  92.46  61.68  5.77  82.06  1032.37     0     1   \n",
       "3       1  2274.27  3090.24  16.97  65.40  5.24  62.09  1031.98     0     1   \n",
       "4       1  2288.27  3110.24  18.14  67.66  6.22  61.70  1032.39     0     1   \n",
       "\n",
       "   搅拌超压信号  正泵  反泵  设备类型  sample_file_name  \n",
       "0       0   1   0     7                 0  \n",
       "1       0   1   0     7                 0  \n",
       "2       0   1   0     7                 0  \n",
       "3       0   1   0     7                 0  \n",
       "4       0   1   0     7                 0  "
      ]
     },
     "execution_count": 19,
     "metadata": {},
     "output_type": "execute_result"
    }
   ],
   "source": [
    "data.head()"
   ]
  },
  {
   "cell_type": "code",
   "execution_count": 13,
   "metadata": {
    "collapsed": true
   },
   "outputs": [
    {
     "data": {
      "text/plain": [
       "活塞工作时长              0\n",
       "发动机转速               0\n",
       "油泵转速                0\n",
       "泵送压力                0\n",
       "液压油温                0\n",
       "流量档位                0\n",
       "分配压力                0\n",
       "排量电流                0\n",
       "低压开关                0\n",
       "高压开关                0\n",
       "搅拌超压信号              0\n",
       "正泵                  0\n",
       "反泵                  0\n",
       "设备类型                0\n",
       "sample_file_name    0\n",
       "dtype: int64"
      ]
     },
     "execution_count": 13,
     "metadata": {},
     "output_type": "execute_result"
    }
   ],
   "source": [
    "data.isnull().sum()"
   ]
  },
  {
   "cell_type": "code",
   "execution_count": 18,
   "metadata": {
    "collapsed": true
   },
   "outputs": [
    {
     "name": "stdout",
     "output_type": "stream",
     "text": [
      "<class 'pandas.core.frame.DataFrame'>\n",
      "RangeIndex: 18371116 entries, 0 to 18371115\n",
      "Data columns (total 15 columns):\n",
      "活塞工作时长              int32\n",
      "发动机转速               float64\n",
      "油泵转速                float64\n",
      "泵送压力                float64\n",
      "液压油温                float64\n",
      "流量档位                float32\n",
      "分配压力                float64\n",
      "排量电流                float64\n",
      "低压开关                int8\n",
      "高压开关                int8\n",
      "搅拌超压信号              int8\n",
      "正泵                  int8\n",
      "反泵                  int8\n",
      "设备类型                int8\n",
      "sample_file_name    int32\n",
      "dtypes: float32(1), float64(6), int32(2), int8(6)\n",
      "memory usage: 1.1 GB\n"
     ]
    }
   ],
   "source": [
    "data.info()"
   ]
  },
  {
   "cell_type": "code",
   "execution_count": 5,
   "metadata": {},
   "outputs": [],
   "source": [
    "bool_col = ['低压开关', '高压开关', '搅拌超压信号', '正泵', '反泵']\n",
    "data.loc[:, bool_col] = data.loc[:, bool_col].astype('int8')"
   ]
  },
  {
   "cell_type": "code",
   "execution_count": 6,
   "metadata": {},
   "outputs": [],
   "source": [
    "int_col = ['活塞工作时长', 'sample_file_name']\n",
    "for i in int_col:\n",
    "    try:\n",
    "        data[i] = data[i].astype('int32')\n",
    "    except:\n",
    "        data[i] = data[i].astype(str).apply(lambda x:x.split('.')[0]).astype('int32')"
   ]
  },
  {
   "cell_type": "code",
   "execution_count": 7,
   "metadata": {},
   "outputs": [],
   "source": [
    "data['流量档位'] = data['流量档位'].astype('float32')\n",
    "label_encoder = data['设备类型'].value_counts().rank(method='dense').astype(int).to_dict()\n",
    "data['设备类型'] = data['设备类型'].map(label_encoder)\n",
    "data['设备类型'] = data['设备类型'].astype('int8')"
   ]
  },
  {
   "cell_type": "code",
   "execution_count": 9,
   "metadata": {},
   "outputs": [
    {
     "data": {
      "text/plain": [
       "'../data/cc/label_encoder1.pkl'"
      ]
     },
     "execution_count": 9,
     "metadata": {},
     "output_type": "execute_result"
    }
   ],
   "source": [
    "save_variable(data,'../data/data_all.pkl')\n",
    "save_variable(id_map,'../data/id_map.pkl')\n",
    "save_variable(label_encoder, '../data/label_encoder.pkl')"
   ]
  },
  {
   "cell_type": "code",
   "execution_count": 87,
   "metadata": {},
   "outputs": [],
   "source": []
  }
 ],
 "metadata": {
  "kernelspec": {
   "display_name": "Python 3",
   "language": "python",
   "name": "python3"
  },
  "language_info": {
   "codemirror_mode": {
    "name": "ipython",
    "version": 3
   },
   "file_extension": ".py",
   "mimetype": "text/x-python",
   "name": "python",
   "nbconvert_exporter": "python",
   "pygments_lexer": "ipython3",
   "version": "3.6.5"
  }
 },
 "nbformat": 4,
 "nbformat_minor": 2
}
