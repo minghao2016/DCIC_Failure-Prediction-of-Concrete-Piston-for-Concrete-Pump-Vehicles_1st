{
 "cells": [
  {
   "cell_type": "code",
   "execution_count": 2,
   "metadata": {},
   "outputs": [],
   "source": [
    "import pandas as pd\n",
    "from sklearn.metrics import mean_squared_error, f1_score, log_loss,roc_auc_score"
   ]
  },
  {
   "cell_type": "code",
   "execution_count": 9,
   "metadata": {},
   "outputs": [
    {
     "name": "stdout",
     "output_type": "stream",
     "text": [
      "0    25461\n",
      "3    20700\n",
      "1     3278\n",
      "2     2811\n",
      "Name: toupiao, dtype: int64\n",
      "0    28739\n",
      "1    23511\n",
      "Name: label, dtype: int64\n"
     ]
    }
   ],
   "source": [
    "\"\"\"投票\"\"\"\n",
    "tt = pd.read_csv('../sub/xgb.csv')\n",
    "dd = pd.read_csv('../sub/cat.csv')\n",
    "ff = pd.read_csv('../sub/lgb.csv')\n",
    "tt = tt.merge(dd, on='sample_file_name',how='left')\n",
    "tt = tt.merge(ff, on='sample_file_name',how='left')\n",
    "tt['toupiao'] = (tt.label_x+tt.label+tt.label_y)\n",
    "dic = {0:0,3:1,1:0,2:1}\n",
    "print(tt['toupiao'].value_counts())\n",
    "tt['toupiao'] = tt['toupiao'].map(dic)\n",
    "sub = tt[['sample_file_name', 'toupiao']]\n",
    "sub.columns = ['sample_file_name', 'label']\n",
    "print(sub.label.value_counts())\n",
    "sub.to_csv('../sub/best.csv', index=False)"
   ]
  },
  {
   "cell_type": "code",
   "execution_count": 10,
   "metadata": {},
   "outputs": [
    {
     "name": "stderr",
     "output_type": "stream",
     "text": [
      "c:\\users\\pinlan\\appdata\\local\\programs\\python\\python36\\lib\\site-packages\\pandas\\core\\indexing.py:543: SettingWithCopyWarning: \n",
      "A value is trying to be set on a copy of a slice from a DataFrame.\n",
      "Try using .loc[row_indexer,col_indexer] = value instead\n",
      "\n",
      "See the caveats in the documentation: http://pandas.pydata.org/pandas-docs/stable/indexing.html#indexing-view-versus-copy\n",
      "  self.obj[item] = s\n"
     ]
    },
    {
     "data": {
      "text/plain": [
       "0    28211\n",
       "1    24039\n",
       "Name: label, dtype: int64"
      ]
     },
     "execution_count": 10,
     "metadata": {},
     "output_type": "execute_result"
    }
   ],
   "source": [
    "cc = pd.read_csv('../sub/houchuli.csv')\n",
    "dd = cc[cc['label'] == 1]['sample_file_name'].values\n",
    "sub.loc[sub['sample_file_name'].isin(dd), 'label'] = 1\n",
    "sub.label.value_counts()"
   ]
  },
  {
   "cell_type": "code",
   "execution_count": 11,
   "metadata": {},
   "outputs": [],
   "source": [
    "sub.to_csv('../sub/sub_3_23.csv', index=False)"
   ]
  },
  {
   "cell_type": "code",
   "execution_count": null,
   "metadata": {},
   "outputs": [],
   "source": []
  }
 ],
 "metadata": {
  "kernelspec": {
   "display_name": "Python 3",
   "language": "python",
   "name": "python3"
  },
  "language_info": {
   "codemirror_mode": {
    "name": "ipython",
    "version": 3
   },
   "file_extension": ".py",
   "mimetype": "text/x-python",
   "name": "python",
   "nbconvert_exporter": "python",
   "pygments_lexer": "ipython3",
   "version": "3.6.5"
  }
 },
 "nbformat": 4,
 "nbformat_minor": 2
}
